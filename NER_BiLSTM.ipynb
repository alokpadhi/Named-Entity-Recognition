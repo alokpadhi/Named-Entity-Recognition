{
  "nbformat": 4,
  "nbformat_minor": 0,
  "metadata": {
    "colab": {
      "name": "NER_BiLSTM.ipynb",
      "provenance": []
    },
    "kernelspec": {
      "name": "python3",
      "display_name": "Python 3"
    },
    "language_info": {
      "name": "python"
    },
    "accelerator": "GPU",
    "widgets": {
      "application/vnd.jupyter.widget-state+json": {
        "27d1eb3b19954676872e3b7248fe3fd0": {
          "model_module": "@jupyter-widgets/controls",
          "model_name": "VBoxModel",
          "model_module_version": "1.5.0",
          "state": {
            "_dom_classes": [],
            "_model_module": "@jupyter-widgets/controls",
            "_model_module_version": "1.5.0",
            "_model_name": "VBoxModel",
            "_view_count": null,
            "_view_module": "@jupyter-widgets/controls",
            "_view_module_version": "1.5.0",
            "_view_name": "VBoxView",
            "box_style": "",
            "children": [
              "IPY_MODEL_2dbd61eecba44168bf22b8ab802c825c",
              "IPY_MODEL_c733dce54a3d422cb40d530a96bb5b41"
            ],
            "layout": "IPY_MODEL_2edb01f554c44d9c979e7bb6dc6fd02a"
          }
        },
        "2dbd61eecba44168bf22b8ab802c825c": {
          "model_module": "@jupyter-widgets/controls",
          "model_name": "LabelModel",
          "model_module_version": "1.5.0",
          "state": {
            "_dom_classes": [],
            "_model_module": "@jupyter-widgets/controls",
            "_model_module_version": "1.5.0",
            "_model_name": "LabelModel",
            "_view_count": null,
            "_view_module": "@jupyter-widgets/controls",
            "_view_module_version": "1.5.0",
            "_view_name": "LabelView",
            "description": "",
            "description_tooltip": null,
            "layout": "IPY_MODEL_7d5c08062ac643819d081867de8b1dca",
            "placeholder": "​",
            "style": "IPY_MODEL_0e29340ef9df4146b8f929d275096132",
            "value": "2.246 MB of 2.246 MB uploaded (0.000 MB deduped)\r"
          }
        },
        "c733dce54a3d422cb40d530a96bb5b41": {
          "model_module": "@jupyter-widgets/controls",
          "model_name": "FloatProgressModel",
          "model_module_version": "1.5.0",
          "state": {
            "_dom_classes": [],
            "_model_module": "@jupyter-widgets/controls",
            "_model_module_version": "1.5.0",
            "_model_name": "FloatProgressModel",
            "_view_count": null,
            "_view_module": "@jupyter-widgets/controls",
            "_view_module_version": "1.5.0",
            "_view_name": "ProgressView",
            "bar_style": "",
            "description": "",
            "description_tooltip": null,
            "layout": "IPY_MODEL_b154a5e84ae54c838ba7e0917629cf89",
            "max": 1,
            "min": 0,
            "orientation": "horizontal",
            "style": "IPY_MODEL_265d7ebc70a8498faf2bf26fb8606a1a",
            "value": 1
          }
        },
        "2edb01f554c44d9c979e7bb6dc6fd02a": {
          "model_module": "@jupyter-widgets/base",
          "model_name": "LayoutModel",
          "model_module_version": "1.2.0",
          "state": {
            "_model_module": "@jupyter-widgets/base",
            "_model_module_version": "1.2.0",
            "_model_name": "LayoutModel",
            "_view_count": null,
            "_view_module": "@jupyter-widgets/base",
            "_view_module_version": "1.2.0",
            "_view_name": "LayoutView",
            "align_content": null,
            "align_items": null,
            "align_self": null,
            "border": null,
            "bottom": null,
            "display": null,
            "flex": null,
            "flex_flow": null,
            "grid_area": null,
            "grid_auto_columns": null,
            "grid_auto_flow": null,
            "grid_auto_rows": null,
            "grid_column": null,
            "grid_gap": null,
            "grid_row": null,
            "grid_template_areas": null,
            "grid_template_columns": null,
            "grid_template_rows": null,
            "height": null,
            "justify_content": null,
            "justify_items": null,
            "left": null,
            "margin": null,
            "max_height": null,
            "max_width": null,
            "min_height": null,
            "min_width": null,
            "object_fit": null,
            "object_position": null,
            "order": null,
            "overflow": null,
            "overflow_x": null,
            "overflow_y": null,
            "padding": null,
            "right": null,
            "top": null,
            "visibility": null,
            "width": null
          }
        },
        "7d5c08062ac643819d081867de8b1dca": {
          "model_module": "@jupyter-widgets/base",
          "model_name": "LayoutModel",
          "model_module_version": "1.2.0",
          "state": {
            "_model_module": "@jupyter-widgets/base",
            "_model_module_version": "1.2.0",
            "_model_name": "LayoutModel",
            "_view_count": null,
            "_view_module": "@jupyter-widgets/base",
            "_view_module_version": "1.2.0",
            "_view_name": "LayoutView",
            "align_content": null,
            "align_items": null,
            "align_self": null,
            "border": null,
            "bottom": null,
            "display": null,
            "flex": null,
            "flex_flow": null,
            "grid_area": null,
            "grid_auto_columns": null,
            "grid_auto_flow": null,
            "grid_auto_rows": null,
            "grid_column": null,
            "grid_gap": null,
            "grid_row": null,
            "grid_template_areas": null,
            "grid_template_columns": null,
            "grid_template_rows": null,
            "height": null,
            "justify_content": null,
            "justify_items": null,
            "left": null,
            "margin": null,
            "max_height": null,
            "max_width": null,
            "min_height": null,
            "min_width": null,
            "object_fit": null,
            "object_position": null,
            "order": null,
            "overflow": null,
            "overflow_x": null,
            "overflow_y": null,
            "padding": null,
            "right": null,
            "top": null,
            "visibility": null,
            "width": null
          }
        },
        "0e29340ef9df4146b8f929d275096132": {
          "model_module": "@jupyter-widgets/controls",
          "model_name": "DescriptionStyleModel",
          "model_module_version": "1.5.0",
          "state": {
            "_model_module": "@jupyter-widgets/controls",
            "_model_module_version": "1.5.0",
            "_model_name": "DescriptionStyleModel",
            "_view_count": null,
            "_view_module": "@jupyter-widgets/base",
            "_view_module_version": "1.2.0",
            "_view_name": "StyleView",
            "description_width": ""
          }
        },
        "b154a5e84ae54c838ba7e0917629cf89": {
          "model_module": "@jupyter-widgets/base",
          "model_name": "LayoutModel",
          "model_module_version": "1.2.0",
          "state": {
            "_model_module": "@jupyter-widgets/base",
            "_model_module_version": "1.2.0",
            "_model_name": "LayoutModel",
            "_view_count": null,
            "_view_module": "@jupyter-widgets/base",
            "_view_module_version": "1.2.0",
            "_view_name": "LayoutView",
            "align_content": null,
            "align_items": null,
            "align_self": null,
            "border": null,
            "bottom": null,
            "display": null,
            "flex": null,
            "flex_flow": null,
            "grid_area": null,
            "grid_auto_columns": null,
            "grid_auto_flow": null,
            "grid_auto_rows": null,
            "grid_column": null,
            "grid_gap": null,
            "grid_row": null,
            "grid_template_areas": null,
            "grid_template_columns": null,
            "grid_template_rows": null,
            "height": null,
            "justify_content": null,
            "justify_items": null,
            "left": null,
            "margin": null,
            "max_height": null,
            "max_width": null,
            "min_height": null,
            "min_width": null,
            "object_fit": null,
            "object_position": null,
            "order": null,
            "overflow": null,
            "overflow_x": null,
            "overflow_y": null,
            "padding": null,
            "right": null,
            "top": null,
            "visibility": null,
            "width": null
          }
        },
        "265d7ebc70a8498faf2bf26fb8606a1a": {
          "model_module": "@jupyter-widgets/controls",
          "model_name": "ProgressStyleModel",
          "model_module_version": "1.5.0",
          "state": {
            "_model_module": "@jupyter-widgets/controls",
            "_model_module_version": "1.5.0",
            "_model_name": "ProgressStyleModel",
            "_view_count": null,
            "_view_module": "@jupyter-widgets/base",
            "_view_module_version": "1.2.0",
            "_view_name": "StyleView",
            "bar_color": null,
            "description_width": ""
          }
        }
      }
    }
  },
  "cells": [
    {
      "cell_type": "code",
      "execution_count": 3,
      "metadata": {
        "colab": {
          "base_uri": "https://localhost:8080/"
        },
        "id": "SKdYnmZ7Qn6m",
        "outputId": "6755c47a-72fc-4d44-af85-d5341fdccf22"
      },
      "outputs": [
        {
          "output_type": "stream",
          "name": "stdout",
          "text": [
            "mkdir: cannot create directory ‘/root/.kaggle’: File exists\n"
          ]
        }
      ],
      "source": [
        "!mkdir ~/.kaggle\n",
        "!cp kaggle.json ~/.kaggle"
      ]
    },
    {
      "cell_type": "code",
      "source": [
        "!nvidia-smi"
      ],
      "metadata": {
        "colab": {
          "base_uri": "https://localhost:8080/"
        },
        "id": "iabhl3qcDLKq",
        "outputId": "201411b1-c557-491b-bd41-745dcf4cd747"
      },
      "execution_count": 4,
      "outputs": [
        {
          "output_type": "stream",
          "name": "stdout",
          "text": [
            "Wed Jun  8 20:59:12 2022       \n",
            "+-----------------------------------------------------------------------------+\n",
            "| NVIDIA-SMI 460.32.03    Driver Version: 460.32.03    CUDA Version: 11.2     |\n",
            "|-------------------------------+----------------------+----------------------+\n",
            "| GPU  Name        Persistence-M| Bus-Id        Disp.A | Volatile Uncorr. ECC |\n",
            "| Fan  Temp  Perf  Pwr:Usage/Cap|         Memory-Usage | GPU-Util  Compute M. |\n",
            "|                               |                      |               MIG M. |\n",
            "|===============================+======================+======================|\n",
            "|   0  Tesla T4            Off  | 00000000:00:04.0 Off |                    0 |\n",
            "| N/A   35C    P8    10W /  70W |      0MiB / 15109MiB |      0%      Default |\n",
            "|                               |                      |                  N/A |\n",
            "+-------------------------------+----------------------+----------------------+\n",
            "                                                                               \n",
            "+-----------------------------------------------------------------------------+\n",
            "| Processes:                                                                  |\n",
            "|  GPU   GI   CI        PID   Type   Process name                  GPU Memory |\n",
            "|        ID   ID                                                   Usage      |\n",
            "|=============================================================================|\n",
            "|  No running processes found                                                 |\n",
            "+-----------------------------------------------------------------------------+\n"
          ]
        }
      ]
    },
    {
      "cell_type": "code",
      "source": [
        "!chmod 600 ~/.kaggle/kaggle.json"
      ],
      "metadata": {
        "id": "nC4ZGqlrieFu"
      },
      "execution_count": 5,
      "outputs": []
    },
    {
      "cell_type": "code",
      "source": [
        "!kaggle datasets download -d abhinavwalia95/entity-annotated-corpus"
      ],
      "metadata": {
        "colab": {
          "base_uri": "https://localhost:8080/"
        },
        "id": "sZPV3pq9RnzY",
        "outputId": "a98d7dab-ae13-4fd5-b9e2-71aa901c2580"
      },
      "execution_count": 6,
      "outputs": [
        {
          "output_type": "stream",
          "name": "stdout",
          "text": [
            "Downloading entity-annotated-corpus.zip to /content\n",
            " 76% 20.0M/26.4M [00:00<00:00, 91.8MB/s]\n",
            "100% 26.4M/26.4M [00:00<00:00, 115MB/s] \n"
          ]
        }
      ]
    },
    {
      "cell_type": "code",
      "source": [
        "!unzip entity-annotated-corpus.zip"
      ],
      "metadata": {
        "colab": {
          "base_uri": "https://localhost:8080/"
        },
        "id": "NsoBaiIlSIE_",
        "outputId": "a2791c10-413e-4f10-d6b5-9f693d42e62b"
      },
      "execution_count": 7,
      "outputs": [
        {
          "output_type": "stream",
          "name": "stdout",
          "text": [
            "Archive:  entity-annotated-corpus.zip\n",
            "  inflating: ner.csv                 \n",
            "  inflating: ner_dataset.csv         \n"
          ]
        }
      ]
    },
    {
      "cell_type": "code",
      "source": [
        "import os\n",
        "import time\n",
        "import warnings\n",
        "import pandas as pd\n",
        "\n",
        "import torch\n",
        "import torch.nn as nn\n",
        "import torch.optim as optim\n",
        "import torch.utils.data as data\n",
        "\n",
        "from collections import Counter\n",
        "from sklearn.model_selection import train_test_split\n",
        "\n",
        "import matplotlib.pyplot as plt\n",
        "import matplotlib\n",
        "import seaborn as sns"
      ],
      "metadata": {
        "id": "QvqEyqrrSMfK"
      },
      "execution_count": 8,
      "outputs": []
    },
    {
      "cell_type": "code",
      "source": [
        "%matplotlib inline\n",
        "warnings.filterwarnings(\"ignore\")\n",
        "sns.set_theme(style=\"darkgrid\")\n",
        "matplotlib.rcParams['figure.figsize'] = (20, 10)"
      ],
      "metadata": {
        "id": "nVQl5CdYSm92"
      },
      "execution_count": 9,
      "outputs": []
    },
    {
      "cell_type": "code",
      "source": [
        "dataset_file = \"ner_dataset.csv\""
      ],
      "metadata": {
        "id": "l_dQLQd-TBbe"
      },
      "execution_count": 10,
      "outputs": []
    },
    {
      "cell_type": "code",
      "source": [
        "ner_df = pd.read_csv(dataset_file, encoding=\"latin1\", error_bad_lines=False)\n",
        "ner_df.head()"
      ],
      "metadata": {
        "colab": {
          "base_uri": "https://localhost:8080/",
          "height": 206
        },
        "id": "o_96CP3pTLT_",
        "outputId": "3f8a5441-6dd4-490a-f849-74c1ef93a86f"
      },
      "execution_count": 11,
      "outputs": [
        {
          "output_type": "execute_result",
          "data": {
            "text/plain": [
              "    Sentence #           Word  POS Tag\n",
              "0  Sentence: 1      Thousands  NNS   O\n",
              "1          NaN             of   IN   O\n",
              "2          NaN  demonstrators  NNS   O\n",
              "3          NaN           have  VBP   O\n",
              "4          NaN        marched  VBN   O"
            ],
            "text/html": [
              "\n",
              "  <div id=\"df-e3f90eb2-da6e-4a54-b7fc-7e71540a9592\">\n",
              "    <div class=\"colab-df-container\">\n",
              "      <div>\n",
              "<style scoped>\n",
              "    .dataframe tbody tr th:only-of-type {\n",
              "        vertical-align: middle;\n",
              "    }\n",
              "\n",
              "    .dataframe tbody tr th {\n",
              "        vertical-align: top;\n",
              "    }\n",
              "\n",
              "    .dataframe thead th {\n",
              "        text-align: right;\n",
              "    }\n",
              "</style>\n",
              "<table border=\"1\" class=\"dataframe\">\n",
              "  <thead>\n",
              "    <tr style=\"text-align: right;\">\n",
              "      <th></th>\n",
              "      <th>Sentence #</th>\n",
              "      <th>Word</th>\n",
              "      <th>POS</th>\n",
              "      <th>Tag</th>\n",
              "    </tr>\n",
              "  </thead>\n",
              "  <tbody>\n",
              "    <tr>\n",
              "      <th>0</th>\n",
              "      <td>Sentence: 1</td>\n",
              "      <td>Thousands</td>\n",
              "      <td>NNS</td>\n",
              "      <td>O</td>\n",
              "    </tr>\n",
              "    <tr>\n",
              "      <th>1</th>\n",
              "      <td>NaN</td>\n",
              "      <td>of</td>\n",
              "      <td>IN</td>\n",
              "      <td>O</td>\n",
              "    </tr>\n",
              "    <tr>\n",
              "      <th>2</th>\n",
              "      <td>NaN</td>\n",
              "      <td>demonstrators</td>\n",
              "      <td>NNS</td>\n",
              "      <td>O</td>\n",
              "    </tr>\n",
              "    <tr>\n",
              "      <th>3</th>\n",
              "      <td>NaN</td>\n",
              "      <td>have</td>\n",
              "      <td>VBP</td>\n",
              "      <td>O</td>\n",
              "    </tr>\n",
              "    <tr>\n",
              "      <th>4</th>\n",
              "      <td>NaN</td>\n",
              "      <td>marched</td>\n",
              "      <td>VBN</td>\n",
              "      <td>O</td>\n",
              "    </tr>\n",
              "  </tbody>\n",
              "</table>\n",
              "</div>\n",
              "      <button class=\"colab-df-convert\" onclick=\"convertToInteractive('df-e3f90eb2-da6e-4a54-b7fc-7e71540a9592')\"\n",
              "              title=\"Convert this dataframe to an interactive table.\"\n",
              "              style=\"display:none;\">\n",
              "        \n",
              "  <svg xmlns=\"http://www.w3.org/2000/svg\" height=\"24px\"viewBox=\"0 0 24 24\"\n",
              "       width=\"24px\">\n",
              "    <path d=\"M0 0h24v24H0V0z\" fill=\"none\"/>\n",
              "    <path d=\"M18.56 5.44l.94 2.06.94-2.06 2.06-.94-2.06-.94-.94-2.06-.94 2.06-2.06.94zm-11 1L8.5 8.5l.94-2.06 2.06-.94-2.06-.94L8.5 2.5l-.94 2.06-2.06.94zm10 10l.94 2.06.94-2.06 2.06-.94-2.06-.94-.94-2.06-.94 2.06-2.06.94z\"/><path d=\"M17.41 7.96l-1.37-1.37c-.4-.4-.92-.59-1.43-.59-.52 0-1.04.2-1.43.59L10.3 9.45l-7.72 7.72c-.78.78-.78 2.05 0 2.83L4 21.41c.39.39.9.59 1.41.59.51 0 1.02-.2 1.41-.59l7.78-7.78 2.81-2.81c.8-.78.8-2.07 0-2.86zM5.41 20L4 18.59l7.72-7.72 1.47 1.35L5.41 20z\"/>\n",
              "  </svg>\n",
              "      </button>\n",
              "      \n",
              "  <style>\n",
              "    .colab-df-container {\n",
              "      display:flex;\n",
              "      flex-wrap:wrap;\n",
              "      gap: 12px;\n",
              "    }\n",
              "\n",
              "    .colab-df-convert {\n",
              "      background-color: #E8F0FE;\n",
              "      border: none;\n",
              "      border-radius: 50%;\n",
              "      cursor: pointer;\n",
              "      display: none;\n",
              "      fill: #1967D2;\n",
              "      height: 32px;\n",
              "      padding: 0 0 0 0;\n",
              "      width: 32px;\n",
              "    }\n",
              "\n",
              "    .colab-df-convert:hover {\n",
              "      background-color: #E2EBFA;\n",
              "      box-shadow: 0px 1px 2px rgba(60, 64, 67, 0.3), 0px 1px 3px 1px rgba(60, 64, 67, 0.15);\n",
              "      fill: #174EA6;\n",
              "    }\n",
              "\n",
              "    [theme=dark] .colab-df-convert {\n",
              "      background-color: #3B4455;\n",
              "      fill: #D2E3FC;\n",
              "    }\n",
              "\n",
              "    [theme=dark] .colab-df-convert:hover {\n",
              "      background-color: #434B5C;\n",
              "      box-shadow: 0px 1px 3px 1px rgba(0, 0, 0, 0.15);\n",
              "      filter: drop-shadow(0px 1px 2px rgba(0, 0, 0, 0.3));\n",
              "      fill: #FFFFFF;\n",
              "    }\n",
              "  </style>\n",
              "\n",
              "      <script>\n",
              "        const buttonEl =\n",
              "          document.querySelector('#df-e3f90eb2-da6e-4a54-b7fc-7e71540a9592 button.colab-df-convert');\n",
              "        buttonEl.style.display =\n",
              "          google.colab.kernel.accessAllowed ? 'block' : 'none';\n",
              "\n",
              "        async function convertToInteractive(key) {\n",
              "          const element = document.querySelector('#df-e3f90eb2-da6e-4a54-b7fc-7e71540a9592');\n",
              "          const dataTable =\n",
              "            await google.colab.kernel.invokeFunction('convertToInteractive',\n",
              "                                                     [key], {});\n",
              "          if (!dataTable) return;\n",
              "\n",
              "          const docLinkHtml = 'Like what you see? Visit the ' +\n",
              "            '<a target=\"_blank\" href=https://colab.research.google.com/notebooks/data_table.ipynb>data table notebook</a>'\n",
              "            + ' to learn more about interactive tables.';\n",
              "          element.innerHTML = '';\n",
              "          dataTable['output_type'] = 'display_data';\n",
              "          await google.colab.output.renderOutput(dataTable, element);\n",
              "          const docLink = document.createElement('div');\n",
              "          docLink.innerHTML = docLinkHtml;\n",
              "          element.appendChild(docLink);\n",
              "        }\n",
              "      </script>\n",
              "    </div>\n",
              "  </div>\n",
              "  "
            ]
          },
          "metadata": {},
          "execution_count": 11
        }
      ]
    },
    {
      "cell_type": "code",
      "source": [
        "# check missing value percentage in [Word, POS, Tag]\n",
        "missing_percentage = ner_df.isnull().sum() / len(ner_df)\n",
        "missing_value_df = pd.DataFrame({'column_name': ner_df.columns,\n",
        "                                 'percent_missing': missing_percentage})\n",
        "missing_value_df"
      ],
      "metadata": {
        "colab": {
          "base_uri": "https://localhost:8080/",
          "height": 175
        },
        "id": "ZMmYExVfTarQ",
        "outputId": "b7ca7de1-b1aa-4064-d6e5-73c2e4e4dfaa"
      },
      "execution_count": 12,
      "outputs": [
        {
          "output_type": "execute_result",
          "data": {
            "text/plain": [
              "           column_name  percent_missing\n",
              "Sentence #  Sentence #         0.954263\n",
              "Word              Word         0.000000\n",
              "POS                POS         0.000000\n",
              "Tag                Tag         0.000000"
            ],
            "text/html": [
              "\n",
              "  <div id=\"df-0df2bf54-1ea7-4214-ab1a-f7cfd1b6d443\">\n",
              "    <div class=\"colab-df-container\">\n",
              "      <div>\n",
              "<style scoped>\n",
              "    .dataframe tbody tr th:only-of-type {\n",
              "        vertical-align: middle;\n",
              "    }\n",
              "\n",
              "    .dataframe tbody tr th {\n",
              "        vertical-align: top;\n",
              "    }\n",
              "\n",
              "    .dataframe thead th {\n",
              "        text-align: right;\n",
              "    }\n",
              "</style>\n",
              "<table border=\"1\" class=\"dataframe\">\n",
              "  <thead>\n",
              "    <tr style=\"text-align: right;\">\n",
              "      <th></th>\n",
              "      <th>column_name</th>\n",
              "      <th>percent_missing</th>\n",
              "    </tr>\n",
              "  </thead>\n",
              "  <tbody>\n",
              "    <tr>\n",
              "      <th>Sentence #</th>\n",
              "      <td>Sentence #</td>\n",
              "      <td>0.954263</td>\n",
              "    </tr>\n",
              "    <tr>\n",
              "      <th>Word</th>\n",
              "      <td>Word</td>\n",
              "      <td>0.000000</td>\n",
              "    </tr>\n",
              "    <tr>\n",
              "      <th>POS</th>\n",
              "      <td>POS</td>\n",
              "      <td>0.000000</td>\n",
              "    </tr>\n",
              "    <tr>\n",
              "      <th>Tag</th>\n",
              "      <td>Tag</td>\n",
              "      <td>0.000000</td>\n",
              "    </tr>\n",
              "  </tbody>\n",
              "</table>\n",
              "</div>\n",
              "      <button class=\"colab-df-convert\" onclick=\"convertToInteractive('df-0df2bf54-1ea7-4214-ab1a-f7cfd1b6d443')\"\n",
              "              title=\"Convert this dataframe to an interactive table.\"\n",
              "              style=\"display:none;\">\n",
              "        \n",
              "  <svg xmlns=\"http://www.w3.org/2000/svg\" height=\"24px\"viewBox=\"0 0 24 24\"\n",
              "       width=\"24px\">\n",
              "    <path d=\"M0 0h24v24H0V0z\" fill=\"none\"/>\n",
              "    <path d=\"M18.56 5.44l.94 2.06.94-2.06 2.06-.94-2.06-.94-.94-2.06-.94 2.06-2.06.94zm-11 1L8.5 8.5l.94-2.06 2.06-.94-2.06-.94L8.5 2.5l-.94 2.06-2.06.94zm10 10l.94 2.06.94-2.06 2.06-.94-2.06-.94-.94-2.06-.94 2.06-2.06.94z\"/><path d=\"M17.41 7.96l-1.37-1.37c-.4-.4-.92-.59-1.43-.59-.52 0-1.04.2-1.43.59L10.3 9.45l-7.72 7.72c-.78.78-.78 2.05 0 2.83L4 21.41c.39.39.9.59 1.41.59.51 0 1.02-.2 1.41-.59l7.78-7.78 2.81-2.81c.8-.78.8-2.07 0-2.86zM5.41 20L4 18.59l7.72-7.72 1.47 1.35L5.41 20z\"/>\n",
              "  </svg>\n",
              "      </button>\n",
              "      \n",
              "  <style>\n",
              "    .colab-df-container {\n",
              "      display:flex;\n",
              "      flex-wrap:wrap;\n",
              "      gap: 12px;\n",
              "    }\n",
              "\n",
              "    .colab-df-convert {\n",
              "      background-color: #E8F0FE;\n",
              "      border: none;\n",
              "      border-radius: 50%;\n",
              "      cursor: pointer;\n",
              "      display: none;\n",
              "      fill: #1967D2;\n",
              "      height: 32px;\n",
              "      padding: 0 0 0 0;\n",
              "      width: 32px;\n",
              "    }\n",
              "\n",
              "    .colab-df-convert:hover {\n",
              "      background-color: #E2EBFA;\n",
              "      box-shadow: 0px 1px 2px rgba(60, 64, 67, 0.3), 0px 1px 3px 1px rgba(60, 64, 67, 0.15);\n",
              "      fill: #174EA6;\n",
              "    }\n",
              "\n",
              "    [theme=dark] .colab-df-convert {\n",
              "      background-color: #3B4455;\n",
              "      fill: #D2E3FC;\n",
              "    }\n",
              "\n",
              "    [theme=dark] .colab-df-convert:hover {\n",
              "      background-color: #434B5C;\n",
              "      box-shadow: 0px 1px 3px 1px rgba(0, 0, 0, 0.15);\n",
              "      filter: drop-shadow(0px 1px 2px rgba(0, 0, 0, 0.3));\n",
              "      fill: #FFFFFF;\n",
              "    }\n",
              "  </style>\n",
              "\n",
              "      <script>\n",
              "        const buttonEl =\n",
              "          document.querySelector('#df-0df2bf54-1ea7-4214-ab1a-f7cfd1b6d443 button.colab-df-convert');\n",
              "        buttonEl.style.display =\n",
              "          google.colab.kernel.accessAllowed ? 'block' : 'none';\n",
              "\n",
              "        async function convertToInteractive(key) {\n",
              "          const element = document.querySelector('#df-0df2bf54-1ea7-4214-ab1a-f7cfd1b6d443');\n",
              "          const dataTable =\n",
              "            await google.colab.kernel.invokeFunction('convertToInteractive',\n",
              "                                                     [key], {});\n",
              "          if (!dataTable) return;\n",
              "\n",
              "          const docLinkHtml = 'Like what you see? Visit the ' +\n",
              "            '<a target=\"_blank\" href=https://colab.research.google.com/notebooks/data_table.ipynb>data table notebook</a>'\n",
              "            + ' to learn more about interactive tables.';\n",
              "          element.innerHTML = '';\n",
              "          dataTable['output_type'] = 'display_data';\n",
              "          await google.colab.output.renderOutput(dataTable, element);\n",
              "          const docLink = document.createElement('div');\n",
              "          docLink.innerHTML = docLinkHtml;\n",
              "          element.appendChild(docLink);\n",
              "        }\n",
              "      </script>\n",
              "    </div>\n",
              "  </div>\n",
              "  "
            ]
          },
          "metadata": {},
          "execution_count": 12
        }
      ]
    },
    {
      "cell_type": "markdown",
      "source": [
        "There is no missing values in the required columns."
      ],
      "metadata": {
        "id": "wK5iIS8tUBxs"
      }
    },
    {
      "cell_type": "code",
      "source": [
        "df = ner_df.copy()"
      ],
      "metadata": {
        "id": "QqwcQeoIUhfP"
      },
      "execution_count": 13,
      "outputs": []
    },
    {
      "cell_type": "code",
      "source": [
        "# forward fill the sentence numbers\n",
        "df.ffill(axis=0, inplace=True)\n",
        "df.head()"
      ],
      "metadata": {
        "colab": {
          "base_uri": "https://localhost:8080/",
          "height": 206
        },
        "id": "CMjzAwe6ULq2",
        "outputId": "5a916c4d-ed53-4296-92d0-3c2995642555"
      },
      "execution_count": 14,
      "outputs": [
        {
          "output_type": "execute_result",
          "data": {
            "text/plain": [
              "    Sentence #           Word  POS Tag\n",
              "0  Sentence: 1      Thousands  NNS   O\n",
              "1  Sentence: 1             of   IN   O\n",
              "2  Sentence: 1  demonstrators  NNS   O\n",
              "3  Sentence: 1           have  VBP   O\n",
              "4  Sentence: 1        marched  VBN   O"
            ],
            "text/html": [
              "\n",
              "  <div id=\"df-818a0504-0d2d-407b-82d3-772a8f21b6b9\">\n",
              "    <div class=\"colab-df-container\">\n",
              "      <div>\n",
              "<style scoped>\n",
              "    .dataframe tbody tr th:only-of-type {\n",
              "        vertical-align: middle;\n",
              "    }\n",
              "\n",
              "    .dataframe tbody tr th {\n",
              "        vertical-align: top;\n",
              "    }\n",
              "\n",
              "    .dataframe thead th {\n",
              "        text-align: right;\n",
              "    }\n",
              "</style>\n",
              "<table border=\"1\" class=\"dataframe\">\n",
              "  <thead>\n",
              "    <tr style=\"text-align: right;\">\n",
              "      <th></th>\n",
              "      <th>Sentence #</th>\n",
              "      <th>Word</th>\n",
              "      <th>POS</th>\n",
              "      <th>Tag</th>\n",
              "    </tr>\n",
              "  </thead>\n",
              "  <tbody>\n",
              "    <tr>\n",
              "      <th>0</th>\n",
              "      <td>Sentence: 1</td>\n",
              "      <td>Thousands</td>\n",
              "      <td>NNS</td>\n",
              "      <td>O</td>\n",
              "    </tr>\n",
              "    <tr>\n",
              "      <th>1</th>\n",
              "      <td>Sentence: 1</td>\n",
              "      <td>of</td>\n",
              "      <td>IN</td>\n",
              "      <td>O</td>\n",
              "    </tr>\n",
              "    <tr>\n",
              "      <th>2</th>\n",
              "      <td>Sentence: 1</td>\n",
              "      <td>demonstrators</td>\n",
              "      <td>NNS</td>\n",
              "      <td>O</td>\n",
              "    </tr>\n",
              "    <tr>\n",
              "      <th>3</th>\n",
              "      <td>Sentence: 1</td>\n",
              "      <td>have</td>\n",
              "      <td>VBP</td>\n",
              "      <td>O</td>\n",
              "    </tr>\n",
              "    <tr>\n",
              "      <th>4</th>\n",
              "      <td>Sentence: 1</td>\n",
              "      <td>marched</td>\n",
              "      <td>VBN</td>\n",
              "      <td>O</td>\n",
              "    </tr>\n",
              "  </tbody>\n",
              "</table>\n",
              "</div>\n",
              "      <button class=\"colab-df-convert\" onclick=\"convertToInteractive('df-818a0504-0d2d-407b-82d3-772a8f21b6b9')\"\n",
              "              title=\"Convert this dataframe to an interactive table.\"\n",
              "              style=\"display:none;\">\n",
              "        \n",
              "  <svg xmlns=\"http://www.w3.org/2000/svg\" height=\"24px\"viewBox=\"0 0 24 24\"\n",
              "       width=\"24px\">\n",
              "    <path d=\"M0 0h24v24H0V0z\" fill=\"none\"/>\n",
              "    <path d=\"M18.56 5.44l.94 2.06.94-2.06 2.06-.94-2.06-.94-.94-2.06-.94 2.06-2.06.94zm-11 1L8.5 8.5l.94-2.06 2.06-.94-2.06-.94L8.5 2.5l-.94 2.06-2.06.94zm10 10l.94 2.06.94-2.06 2.06-.94-2.06-.94-.94-2.06-.94 2.06-2.06.94z\"/><path d=\"M17.41 7.96l-1.37-1.37c-.4-.4-.92-.59-1.43-.59-.52 0-1.04.2-1.43.59L10.3 9.45l-7.72 7.72c-.78.78-.78 2.05 0 2.83L4 21.41c.39.39.9.59 1.41.59.51 0 1.02-.2 1.41-.59l7.78-7.78 2.81-2.81c.8-.78.8-2.07 0-2.86zM5.41 20L4 18.59l7.72-7.72 1.47 1.35L5.41 20z\"/>\n",
              "  </svg>\n",
              "      </button>\n",
              "      \n",
              "  <style>\n",
              "    .colab-df-container {\n",
              "      display:flex;\n",
              "      flex-wrap:wrap;\n",
              "      gap: 12px;\n",
              "    }\n",
              "\n",
              "    .colab-df-convert {\n",
              "      background-color: #E8F0FE;\n",
              "      border: none;\n",
              "      border-radius: 50%;\n",
              "      cursor: pointer;\n",
              "      display: none;\n",
              "      fill: #1967D2;\n",
              "      height: 32px;\n",
              "      padding: 0 0 0 0;\n",
              "      width: 32px;\n",
              "    }\n",
              "\n",
              "    .colab-df-convert:hover {\n",
              "      background-color: #E2EBFA;\n",
              "      box-shadow: 0px 1px 2px rgba(60, 64, 67, 0.3), 0px 1px 3px 1px rgba(60, 64, 67, 0.15);\n",
              "      fill: #174EA6;\n",
              "    }\n",
              "\n",
              "    [theme=dark] .colab-df-convert {\n",
              "      background-color: #3B4455;\n",
              "      fill: #D2E3FC;\n",
              "    }\n",
              "\n",
              "    [theme=dark] .colab-df-convert:hover {\n",
              "      background-color: #434B5C;\n",
              "      box-shadow: 0px 1px 3px 1px rgba(0, 0, 0, 0.15);\n",
              "      filter: drop-shadow(0px 1px 2px rgba(0, 0, 0, 0.3));\n",
              "      fill: #FFFFFF;\n",
              "    }\n",
              "  </style>\n",
              "\n",
              "      <script>\n",
              "        const buttonEl =\n",
              "          document.querySelector('#df-818a0504-0d2d-407b-82d3-772a8f21b6b9 button.colab-df-convert');\n",
              "        buttonEl.style.display =\n",
              "          google.colab.kernel.accessAllowed ? 'block' : 'none';\n",
              "\n",
              "        async function convertToInteractive(key) {\n",
              "          const element = document.querySelector('#df-818a0504-0d2d-407b-82d3-772a8f21b6b9');\n",
              "          const dataTable =\n",
              "            await google.colab.kernel.invokeFunction('convertToInteractive',\n",
              "                                                     [key], {});\n",
              "          if (!dataTable) return;\n",
              "\n",
              "          const docLinkHtml = 'Like what you see? Visit the ' +\n",
              "            '<a target=\"_blank\" href=https://colab.research.google.com/notebooks/data_table.ipynb>data table notebook</a>'\n",
              "            + ' to learn more about interactive tables.';\n",
              "          element.innerHTML = '';\n",
              "          dataTable['output_type'] = 'display_data';\n",
              "          await google.colab.output.renderOutput(dataTable, element);\n",
              "          const docLink = document.createElement('div');\n",
              "          docLink.innerHTML = docLinkHtml;\n",
              "          element.appendChild(docLink);\n",
              "        }\n",
              "      </script>\n",
              "    </div>\n",
              "  </div>\n",
              "  "
            ]
          },
          "metadata": {},
          "execution_count": 14
        }
      ]
    },
    {
      "cell_type": "code",
      "source": [
        "# shape of dataframe\n",
        "df.shape"
      ],
      "metadata": {
        "colab": {
          "base_uri": "https://localhost:8080/"
        },
        "id": "nU740PRNUbDu",
        "outputId": "86f6052a-0126-4a39-bd9d-34466e710adb"
      },
      "execution_count": 15,
      "outputs": [
        {
          "output_type": "execute_result",
          "data": {
            "text/plain": [
              "(1048575, 4)"
            ]
          },
          "metadata": {},
          "execution_count": 15
        }
      ]
    },
    {
      "cell_type": "code",
      "source": [
        "# List of entities in the dataset\n",
        "tags = list(df.Tag.unique())\n",
        "print(tags)"
      ],
      "metadata": {
        "colab": {
          "base_uri": "https://localhost:8080/"
        },
        "id": "Iae6kvi2UrJi",
        "outputId": "ff522b3e-8e47-4dfd-b99c-88b77c044396"
      },
      "execution_count": 16,
      "outputs": [
        {
          "output_type": "stream",
          "name": "stdout",
          "text": [
            "['O', 'B-geo', 'B-gpe', 'B-per', 'I-geo', 'B-org', 'I-org', 'B-tim', 'B-art', 'I-art', 'I-per', 'I-gpe', 'I-tim', 'B-nat', 'B-eve', 'I-eve', 'I-nat']\n"
          ]
        }
      ]
    },
    {
      "cell_type": "code",
      "source": [
        "# draw the count of each tag\n",
        "sns.countplot(df.Tag.values)"
      ],
      "metadata": {
        "colab": {
          "base_uri": "https://localhost:8080/",
          "height": 611
        },
        "id": "-3jY5LxRU033",
        "outputId": "1439e228-5272-42ba-9acc-8dbefea81164"
      },
      "execution_count": 17,
      "outputs": [
        {
          "output_type": "execute_result",
          "data": {
            "text/plain": [
              "<matplotlib.axes._subplots.AxesSubplot at 0x7f3dea7ba890>"
            ]
          },
          "metadata": {},
          "execution_count": 17
        },
        {
          "output_type": "display_data",
          "data": {
            "text/plain": [
              "<Figure size 1440x720 with 1 Axes>"
            ],
            "image/png": "[encoded data removed]"
          },
          "metadata": {}
        }
      ]
    },
    {
      "cell_type": "code",
      "source": [
        "num_tags = len(tags)"
      ],
      "metadata": {
        "id": "qDxZJkGk1yrP"
      },
      "execution_count": 18,
      "outputs": []
    },
    {
      "cell_type": "code",
      "source": [
        "# convert tags to numeric\n",
        "tag2idx = {tag: idx for idx, tag in enumerate(tags)}\n",
        "idx2tag = {idx: tag for idx, tag in enumerate(tags)}\n",
        "print(tag2idx)"
      ],
      "metadata": {
        "colab": {
          "base_uri": "https://localhost:8080/"
        },
        "id": "Lpsf-GEvU-vu",
        "outputId": "60fba53e-0784-46da-841f-415fcc83cd7b"
      },
      "execution_count": 19,
      "outputs": [
        {
          "output_type": "stream",
          "name": "stdout",
          "text": [
            "{'O': 0, 'B-geo': 1, 'B-gpe': 2, 'B-per': 3, 'I-geo': 4, 'B-org': 5, 'I-org': 6, 'B-tim': 7, 'B-art': 8, 'I-art': 9, 'I-per': 10, 'I-gpe': 11, 'I-tim': 12, 'B-nat': 13, 'B-eve': 14, 'I-eve': 15, 'I-nat': 16}\n"
          ]
        }
      ]
    },
    {
      "cell_type": "code",
      "source": [
        "agg_func = lambda s: [(w, p, t) for w, p, t in zip(s[\"Word\"].values.tolist(), s[\"POS\"].values.tolist(), s[\"Tag\"].values.tolist())]\n",
        "group = df.groupby(\"Sentence #\").apply(agg_func)\n",
        "sentences = [s for s in group]"
      ],
      "metadata": {
        "id": "fFqoRsWlXvCV"
      },
      "execution_count": 20,
      "outputs": []
    },
    {
      "cell_type": "code",
      "source": [
        "sentences[0]"
      ],
      "metadata": {
        "colab": {
          "base_uri": "https://localhost:8080/"
        },
        "id": "BPSWGtVOVyKR",
        "outputId": "f915b4f8-1259-4710-ac13-71ba476a66be"
      },
      "execution_count": 21,
      "outputs": [
        {
          "output_type": "execute_result",
          "data": {
            "text/plain": [
              "[('Thousands', 'NNS', 'O'),\n",
              " ('of', 'IN', 'O'),\n",
              " ('demonstrators', 'NNS', 'O'),\n",
              " ('have', 'VBP', 'O'),\n",
              " ('marched', 'VBN', 'O'),\n",
              " ('through', 'IN', 'O'),\n",
              " ('London', 'NNP', 'B-geo'),\n",
              " ('to', 'TO', 'O'),\n",
              " ('protest', 'VB', 'O'),\n",
              " ('the', 'DT', 'O'),\n",
              " ('war', 'NN', 'O'),\n",
              " ('in', 'IN', 'O'),\n",
              " ('Iraq', 'NNP', 'B-geo'),\n",
              " ('and', 'CC', 'O'),\n",
              " ('demand', 'VB', 'O'),\n",
              " ('the', 'DT', 'O'),\n",
              " ('withdrawal', 'NN', 'O'),\n",
              " ('of', 'IN', 'O'),\n",
              " ('British', 'JJ', 'B-gpe'),\n",
              " ('troops', 'NNS', 'O'),\n",
              " ('from', 'IN', 'O'),\n",
              " ('that', 'DT', 'O'),\n",
              " ('country', 'NN', 'O'),\n",
              " ('.', '.', 'O')]"
            ]
          },
          "metadata": {},
          "execution_count": 21
        }
      ]
    },
    {
      "cell_type": "code",
      "source": [
        "# total number of sentences\n",
        "len(sentences)"
      ],
      "metadata": {
        "colab": {
          "base_uri": "https://localhost:8080/"
        },
        "id": "ASEK9onVYHTe",
        "outputId": "182a7f30-aa88-460f-9e4d-9fcff5caeaf9"
      },
      "execution_count": 22,
      "outputs": [
        {
          "output_type": "execute_result",
          "data": {
            "text/plain": [
              "47959"
            ]
          },
          "metadata": {},
          "execution_count": 22
        }
      ]
    },
    {
      "cell_type": "code",
      "source": [
        "# sentence length distribution\n",
        "sent_lengths = [len(s) for s in sentences]\n",
        "sns.countplot(sent_lengths)"
      ],
      "metadata": {
        "colab": {
          "base_uri": "https://localhost:8080/",
          "height": 611
        },
        "id": "YC4JHh0eYLQd",
        "outputId": "0c941fc3-0f77-4c4c-d66e-66035311ac87"
      },
      "execution_count": 23,
      "outputs": [
        {
          "output_type": "execute_result",
          "data": {
            "text/plain": [
              "<matplotlib.axes._subplots.AxesSubplot at 0x7f3de429da90>"
            ]
          },
          "metadata": {},
          "execution_count": 23
        },
        {
          "output_type": "display_data",
          "data": {
            "text/plain": [
              "<Figure size 1440x720 with 1 Axes>"
            ],
            "image/png": "[encoded data removed]"
          },
          "metadata": {}
        }
      ]
    },
    {
      "cell_type": "code",
      "source": [
        "# maximum and minimum sentence length\n",
        "max_sent_len = max(sent_lengths)\n",
        "min_sent_len = min(sent_lengths)\n",
        "print(f\"Maxium sentence length is {max_sent_len} and Minimum sentence length is {min_sent_len}\")"
      ],
      "metadata": {
        "colab": {
          "base_uri": "https://localhost:8080/"
        },
        "id": "YizbCkvcYalD",
        "outputId": "88cc0af1-da3c-4297-9a5c-7bf4cc5e52cb"
      },
      "execution_count": 24,
      "outputs": [
        {
          "output_type": "stream",
          "name": "stdout",
          "text": [
            "Maxium sentence length is 104 and Minimum sentence length is 1\n"
          ]
        }
      ]
    },
    {
      "cell_type": "code",
      "source": [
        "train_data, valid_data = train_test_split(sentences, test_size=0.3, random_state=42)\n",
        "valid_data, test_data = train_test_split(valid_data, test_size=0.5, random_state=42)\n",
        "\n",
        "print(f\"Training dataset length: {len(train_data)}\")\n",
        "print(f\"Validation dataset length: {len(valid_data)}\")\n",
        "print(f\"Testing dataset length: {len(test_data)}\")"
      ],
      "metadata": {
        "colab": {
          "base_uri": "https://localhost:8080/"
        },
        "id": "HnisuKmtYvmm",
        "outputId": "beb25645-9743-4b38-8049-07e4078b415d"
      },
      "execution_count": 25,
      "outputs": [
        {
          "output_type": "stream",
          "name": "stdout",
          "text": [
            "Training dataset length: 33571\n",
            "Validation dataset length: 7194\n",
            "Testing dataset length: 7194\n"
          ]
        }
      ]
    },
    {
      "cell_type": "code",
      "source": [
        "import json"
      ],
      "metadata": {
        "id": "rb6WoPbobq8M"
      },
      "execution_count": 26,
      "outputs": []
    },
    {
      "cell_type": "code",
      "source": [
        "class Vocab(object):\n",
        "    \"\"\" Create the vocabulary of words/tokens \"\"\"\n",
        "    def __init__(self):\n",
        "        self.word2idx = {}\n",
        "        self.idx2word = {}\n",
        "        self.idx = 0\n",
        "        self.vocab = None\n",
        "    \n",
        "    def __len__(self):\n",
        "        return len(self.word2idx)\n",
        "\n",
        "    def __str__(self):\n",
        "        return f\"<Vocab(vocab_size={len(self)})>\"\n",
        "\n",
        "    def add_word(self, word):\n",
        "        if not word in self.word2idx:\n",
        "            self.word2idx[word] = self.idx\n",
        "            self.idx2word[self.idx] = word\n",
        "            self.idx += 1\n",
        "        \n",
        "    def __call__(self, word):\n",
        "        if not word in self.word2idx:\n",
        "            return self.word2idx[\"<unk>\"]\n",
        "        return self.word2idx[word]\n",
        "\n",
        "    def build_vocab(self, sentences, threshold=5):\n",
        "        counter = Counter()\n",
        "        for i, sent in enumerate(sentences):\n",
        "            tokens = []\n",
        "            for word, _, _ in sent:\n",
        "                tokens.append(word)\n",
        "            counter.update(tokens)\n",
        "        \n",
        "        words = [word for word, count in counter.items() if count >= threshold]\n",
        "\n",
        "        self.vocab = Vocab()\n",
        "        self.vocab.add_word(\"<pad>\")\n",
        "        self.vocab.add_word(\"<start>\")\n",
        "        self.vocab.add_word(\"<end>\")\n",
        "        self.vocab.add_word(\"<unk>\")\n",
        "\n",
        "        for i, word in enumerate(words):\n",
        "            self.vocab.add_word(word)\n",
        "        return self.vocab\n",
        "    \n",
        "    def save(self, fp):\n",
        "        with open(fp, \"w\") as fp:\n",
        "            contents = {\n",
        "                \"word2idx\": self.word2idx,\n",
        "                \"idx2word\": self.idx2word,\n",
        "                \"vocab\": self.vocab\n",
        "            }\n",
        "            json.dump(contents, fp, indent=4, sort_keys=False)\n",
        "        \n",
        "    @classmethod\n",
        "    def load(cls, fp):\n",
        "        with open(fp, \"r\") as fp:\n",
        "            kwargs = json.load(fp=fp)\n",
        "        return cls(**kwargs)"
      ],
      "metadata": {
        "id": "rI8q_czoZmOz"
      },
      "execution_count": 27,
      "outputs": []
    },
    {
      "cell_type": "code",
      "source": [
        "words_vocab = Vocab().build_vocab(train_data)"
      ],
      "metadata": {
        "id": "v7SHnPIJes_9"
      },
      "execution_count": 28,
      "outputs": []
    },
    {
      "cell_type": "code",
      "source": [
        "words_vocab(\"from\")"
      ],
      "metadata": {
        "colab": {
          "base_uri": "https://localhost:8080/"
        },
        "id": "g68lULLme2Kx",
        "outputId": "b32201c9-f648-4338-ae3f-9f95a2eb603c"
      },
      "execution_count": 29,
      "outputs": [
        {
          "output_type": "execute_result",
          "data": {
            "text/plain": [
              "26"
            ]
          },
          "metadata": {},
          "execution_count": 29
        }
      ]
    },
    {
      "cell_type": "code",
      "source": [
        "MAX_SEQ_LEN = 100"
      ],
      "metadata": {
        "id": "mZZxO9FJe5dB"
      },
      "execution_count": 30,
      "outputs": []
    },
    {
      "cell_type": "code",
      "source": [
        "class NERDataset(data.Dataset):\n",
        "    def __init__(self, sentences, max_len):\n",
        "        self.sentences = sentences\n",
        "        self.max_len = max_len\n",
        "\n",
        "    def __len__(self):\n",
        "        return len(self.sentences)\n",
        "\n",
        "    def __getitem__(self, index):\n",
        "        sentence = self.sentences[index]\n",
        "        tokens, tags = [], []\n",
        "\n",
        "        for word, _, tag in sentence:\n",
        "            tokens.append(words_vocab(word))\n",
        "            tags.append(tag2idx[tag])\n",
        "        \n",
        "        return torch.LongTensor(tokens), torch.LongTensor(tags)\n",
        "    \n",
        "    def collate_fn(self, data):\n",
        "        data.sort(key=lambda x:len(x[0]), reverse=True)\n",
        "        sentences, tags = zip(*data)\n",
        "\n",
        "        sent_lengths = [len(sent) for sent in sentences]\n",
        "        inputs = torch.zeros(len(sentences), max(sent_lengths)).long()\n",
        "        labels = torch.zeros(len(sentences), max(sent_lengths)).long()\n",
        "\n",
        "        for i, (sent, label) in enumerate(zip(sentences, tags)):\n",
        "            end = sent_lengths[i]\n",
        "            inputs[i, :end] = sent[:end]\n",
        "            labels[i, :end] = label[:end]\n",
        "        return inputs, labels, sent_lengths\n",
        "\n",
        "    def create_dataloader(self, batch_size, shuffle=False):\n",
        "        return data.DataLoader(\n",
        "            dataset=self, batch_size=batch_size, collate_fn=self.collate_fn,\n",
        "            shuffle=shuffle, pin_memory=True)"
      ],
      "metadata": {
        "id": "IRfDccjejpvw"
      },
      "execution_count": 31,
      "outputs": []
    },
    {
      "cell_type": "code",
      "source": [
        "train_dataset = NERDataset(train_data, MAX_SEQ_LEN)\n",
        "valid_dataset = NERDataset(valid_data, MAX_SEQ_LEN)\n",
        "test_dataset = NERDataset(test_data, MAX_SEQ_LEN)"
      ],
      "metadata": {
        "id": "RL9omznqkxmE"
      },
      "execution_count": 32,
      "outputs": []
    },
    {
      "cell_type": "code",
      "source": [
        "print (\"Datasets:\\n\"\n",
        "    f\"  Train dataset:{train_dataset.__str__()}\\n\"\n",
        "    f\"  Val dataset: {valid_dataset.__str__()}\\n\"\n",
        "    f\"  Test dataset: {test_dataset.__str__()}\\n\"\n",
        "    \"Sample point:\\n\"\n",
        "    f\"  X: {train_dataset[0][0]}\\n\"\n",
        "    f\"  y: {train_dataset[0][1]}\")"
      ],
      "metadata": {
        "colab": {
          "base_uri": "https://localhost:8080/"
        },
        "id": "WtdOmUsik7V6",
        "outputId": "97975ab9-912f-4145-da92-2764241d1a5b"
      },
      "execution_count": 33,
      "outputs": [
        {
          "output_type": "stream",
          "name": "stdout",
          "text": [
            "Datasets:\n",
            "  Train dataset:<__main__.NERDataset object at 0x7f3de4002690>\n",
            "  Val dataset: <__main__.NERDataset object at 0x7f3de4002150>\n",
            "  Test dataset: <__main__.NERDataset object at 0x7f3de40022d0>\n",
            "Sample point:\n",
            "  X: tensor([ 4,  5,  6,  7,  8,  9, 10, 11, 12, 13,  5, 14, 15, 16, 17, 18, 19])\n",
            "  y: tensor([3, 0, 0, 0, 0, 0, 0, 0, 0, 0, 0, 0, 0, 0, 0, 0, 0])\n"
          ]
        }
      ]
    },
    {
      "cell_type": "code",
      "source": [
        "batch_size = 64\n",
        "train_dataloader = train_dataset.create_dataloader(batch_size=batch_size)\n",
        "valid_dataloader = valid_dataset.create_dataloader(batch_size=batch_size)\n",
        "test_dataloader = test_dataset.create_dataloader(batch_size=batch_size)\n",
        "batch_X, batch_y, _ = next(iter(train_dataloader))\n",
        "print (\"Sample batch:\\n\"\n",
        "    f\"  X: {list(batch_X.size())}\\n\"\n",
        "    f\"  y: {list(batch_y.size())}\\n\"\n",
        "    \"Sample point:\\n\"\n",
        "    f\"  X: {batch_X[0]}\\n\"\n",
        "    f\"  y: {batch_y[0]}\")"
      ],
      "metadata": {
        "colab": {
          "base_uri": "https://localhost:8080/"
        },
        "id": "f8BNYVlAmhKL",
        "outputId": "1fbda91f-9038-4167-ac4b-99af8eca7522"
      },
      "execution_count": 34,
      "outputs": [
        {
          "output_type": "stream",
          "name": "stdout",
          "text": [
            "Sample batch:\n",
            "  X: [64, 48]\n",
            "  y: [64, 48]\n",
            "Sample point:\n",
            "  X: tensor([528, 529, 530, 279, 531, 296, 532,  32,  12, 533, 534, 535,  93,  94,\n",
            "         41,   3,  62,  12, 536,  23,  12,  43,  26, 155, 537,  32,  12, 538,\n",
            "        539,  23, 540, 537,  32, 541,  23, 542, 543,  32,   3, 544,  26, 542,\n",
            "        545,  32,  37, 546, 547,  19])\n",
            "  y: tensor([0, 0, 0, 1, 4, 0, 0, 0, 0, 5, 6, 0, 0, 0, 0, 0, 0, 0, 0, 0, 0, 0, 0, 0,\n",
            "        0, 0, 0, 0, 0, 0, 0, 0, 0, 0, 0, 0, 0, 0, 0, 0, 0, 0, 0, 0, 0, 0, 0, 0])\n"
          ]
        }
      ]
    },
    {
      "cell_type": "code",
      "source": [
        "!pip install wandb\n",
        "!wandb login"
      ],
      "metadata": {
        "colab": {
          "base_uri": "https://localhost:8080/"
        },
        "id": "PXShNf-Tnl2z",
        "outputId": "8f9e444e-0a42-4ca0-f96f-0acc99c78122"
      },
      "execution_count": 35,
      "outputs": [
        {
          "output_type": "stream",
          "name": "stdout",
          "text": [
            "Looking in indexes: https://pypi.org/simple, https://us-python.pkg.dev/colab-wheels/public/simple/\n",
            "Collecting wandb\n",
            "  Downloading wandb-0.12.17-py2.py3-none-any.whl (1.8 MB)\n",
            "\u001b[K     |████████████████████████████████| 1.8 MB 5.3 MB/s \n",
            "\u001b[?25hCollecting sentry-sdk>=1.0.0\n",
            "  Downloading sentry_sdk-1.5.12-py2.py3-none-any.whl (145 kB)\n",
            "\u001b[K     |████████████████████████████████| 145 kB 65.9 MB/s \n",
            "\u001b[?25hRequirement already satisfied: python-dateutil>=2.6.1 in /usr/local/lib/python3.7/dist-packages (from wandb) (2.8.2)\n",
            "Collecting shortuuid>=0.5.0\n",
            "  Downloading shortuuid-1.0.9-py3-none-any.whl (9.4 kB)\n",
            "Requirement already satisfied: requests<3,>=2.0.0 in /usr/local/lib/python3.7/dist-packages (from wandb) (2.23.0)\n",
            "Requirement already satisfied: promise<3,>=2.0 in /usr/local/lib/python3.7/dist-packages (from wandb) (2.3)\n",
            "Collecting setproctitle\n",
            "  Downloading setproctitle-1.2.3-cp37-cp37m-manylinux_2_5_x86_64.manylinux1_x86_64.manylinux_2_17_x86_64.manylinux2014_x86_64.whl (29 kB)\n",
            "Collecting docker-pycreds>=0.4.0\n",
            "  Downloading docker_pycreds-0.4.0-py2.py3-none-any.whl (9.0 kB)\n",
            "Requirement already satisfied: PyYAML in /usr/local/lib/python3.7/dist-packages (from wandb) (3.13)\n",
            "Requirement already satisfied: protobuf<4.0dev,>=3.12.0 in /usr/local/lib/python3.7/dist-packages (from wandb) (3.17.3)\n",
            "Requirement already satisfied: Click!=8.0.0,>=7.0 in /usr/local/lib/python3.7/dist-packages (from wandb) (7.1.2)\n",
            "Requirement already satisfied: psutil>=5.0.0 in /usr/local/lib/python3.7/dist-packages (from wandb) (5.4.8)\n",
            "Collecting GitPython>=1.0.0\n",
            "  Downloading GitPython-3.1.27-py3-none-any.whl (181 kB)\n",
            "\u001b[K     |████████████████████████████████| 181 kB 69.9 MB/s \n",
            "\u001b[?25hCollecting pathtools\n",
            "  Downloading pathtools-0.1.2.tar.gz (11 kB)\n",
            "Requirement already satisfied: six>=1.13.0 in /usr/local/lib/python3.7/dist-packages (from wandb) (1.15.0)\n",
            "Requirement already satisfied: setuptools in /usr/local/lib/python3.7/dist-packages (from wandb) (57.4.0)\n",
            "Collecting gitdb<5,>=4.0.1\n",
            "  Downloading gitdb-4.0.9-py3-none-any.whl (63 kB)\n",
            "\u001b[K     |████████████████████████████████| 63 kB 2.3 MB/s \n",
            "\u001b[?25hRequirement already satisfied: typing-extensions>=3.7.4.3 in /usr/local/lib/python3.7/dist-packages (from GitPython>=1.0.0->wandb) (4.2.0)\n",
            "Collecting smmap<6,>=3.0.1\n",
            "  Downloading smmap-5.0.0-py3-none-any.whl (24 kB)\n",
            "Requirement already satisfied: urllib3!=1.25.0,!=1.25.1,<1.26,>=1.21.1 in /usr/local/lib/python3.7/dist-packages (from requests<3,>=2.0.0->wandb) (1.24.3)\n",
            "Requirement already satisfied: idna<3,>=2.5 in /usr/local/lib/python3.7/dist-packages (from requests<3,>=2.0.0->wandb) (2.10)\n",
            "Requirement already satisfied: certifi>=2017.4.17 in /usr/local/lib/python3.7/dist-packages (from requests<3,>=2.0.0->wandb) (2022.5.18.1)\n",
            "Requirement already satisfied: chardet<4,>=3.0.2 in /usr/local/lib/python3.7/dist-packages (from requests<3,>=2.0.0->wandb) (3.0.4)\n",
            "Building wheels for collected packages: pathtools\n",
            "  Building wheel for pathtools (setup.py) ... \u001b[?25l\u001b[?25hdone\n",
            "  Created wheel for pathtools: filename=pathtools-0.1.2-py3-none-any.whl size=8806 sha256=a58da98c2c8f6cf00d44a74bc08c239be3ff79131bb64de38050936f14d72256\n",
            "  Stored in directory: /root/.cache/pip/wheels/3e/31/09/fa59cef12cdcfecc627b3d24273699f390e71828921b2cbba2\n",
            "Successfully built pathtools\n",
            "Installing collected packages: smmap, gitdb, shortuuid, setproctitle, sentry-sdk, pathtools, GitPython, docker-pycreds, wandb\n",
            "Successfully installed GitPython-3.1.27 docker-pycreds-0.4.0 gitdb-4.0.9 pathtools-0.1.2 sentry-sdk-1.5.12 setproctitle-1.2.3 shortuuid-1.0.9 smmap-5.0.0 wandb-0.12.17\n",
            "\u001b[34m\u001b[1mwandb\u001b[0m: You can find your API key in your browser here: https://wandb.ai/authorize\n",
            "\u001b[34m\u001b[1mwandb\u001b[0m: Paste an API key from your profile and hit enter, or press ctrl+c to quit: \n",
            "\u001b[34m\u001b[1mwandb\u001b[0m: Appending key for api.wandb.ai to your netrc file: /root/.netrc\n"
          ]
        }
      ]
    },
    {
      "cell_type": "code",
      "source": [
        "import wandb\n",
        "\n",
        "# wandb.init(project=\"NER Project\", entity=\"alokpadhi\")"
      ],
      "metadata": {
        "colab": {
          "base_uri": "https://localhost:8080/",
          "height": 108
        },
        "id": "wRcThUDXoqXj",
        "outputId": "be4b5848-5a5e-493c-c92f-b986f343eb25"
      },
      "execution_count": 36,
      "outputs": [
        {
          "output_type": "stream",
          "name": "stderr",
          "text": [
            "\u001b[34m\u001b[1mwandb\u001b[0m: Currently logged in as: \u001b[33malokpadhi\u001b[0m. Use \u001b[1m`wandb login --relogin`\u001b[0m to force relogin\n"
          ]
        },
        {
          "output_type": "display_data",
          "data": {
            "text/plain": [
              "<IPython.core.display.HTML object>"
            ],
            "text/html": [
              "Tracking run with wandb version 0.12.17"
            ]
          },
          "metadata": {}
        },
        {
          "output_type": "display_data",
          "data": {
            "text/plain": [
              "<IPython.core.display.HTML object>"
            ],
            "text/html": [
              "Run data is saved locally in <code>/content/wandb/run-20220608_210044-3tsiegnr</code>"
            ]
          },
          "metadata": {}
        },
        {
          "output_type": "display_data",
          "data": {
            "text/plain": [
              "<IPython.core.display.HTML object>"
            ],
            "text/html": [
              "Syncing run <strong><a href=\"https://wandb.ai/alokpadhi/NER%20Project/runs/3tsiegnr\" target=\"_blank\">happy-sun-1</a></strong> to <a href=\"https://wandb.ai/alokpadhi/NER%20Project\" target=\"_blank\">Weights & Biases</a> (<a href=\"https://wandb.me/run\" target=\"_blank\">docs</a>)<br/>"
            ]
          },
          "metadata": {}
        },
        {
          "output_type": "execute_result",
          "data": {
            "text/html": [
              "<button onClick=\"this.nextSibling.style.display='block';this.style.display='none';\">Display W&B run</button><iframe src=\"https://wandb.ai/alokpadhi/NER%20Project/runs/3tsiegnr?jupyter=true\" style=\"border:none;width:100%;height:420px;display:none;\"></iframe>"
            ],
            "text/plain": [
              "<wandb.sdk.wandb_run.Run at 0x7f3d770a7e10>"
            ]
          },
          "metadata": {},
          "execution_count": 36
        }
      ]
    },
    {
      "cell_type": "code",
      "source": [
        "# Save label dicts\n",
        "def save_label(fp):\n",
        "    with open(fp, \"w\") as fp:\n",
        "        contents = {\n",
        "            \"tag2idx\": tag2idx,\n",
        "            \"idx2tag\": idx2tag,\n",
        "            }\n",
        "        json.dump(contents, fp, indent=4, sort_keys=False)"
      ],
      "metadata": {
        "id": "hQuYEI-3o8jZ"
      },
      "execution_count": 37,
      "outputs": []
    },
    {
      "cell_type": "code",
      "source": [
        "!mkdir artifact_store"
      ],
      "metadata": {
        "id": "DT6NYNE_HxRM"
      },
      "execution_count": 39,
      "outputs": []
    },
    {
      "cell_type": "code",
      "source": [
        "save_label(\"/content/artifact_store/save_tags.json\")"
      ],
      "metadata": {
        "id": "3d0twyHypok3"
      },
      "execution_count": 40,
      "outputs": []
    },
    {
      "cell_type": "code",
      "source": [
        "# save vocabulary\n",
        "Vocab().save(\"/content/artifact_store/vocab_artifact.json\")"
      ],
      "metadata": {
        "id": "CLAAoyILp3sA"
      },
      "execution_count": 41,
      "outputs": []
    },
    {
      "cell_type": "code",
      "source": [
        "data_artifact_filepath = \"/content/artifact_store\""
      ],
      "metadata": {
        "id": "EQMoxB2qsS5i"
      },
      "execution_count": 42,
      "outputs": []
    },
    {
      "cell_type": "code",
      "source": [
        "# wandb.log_artifact(data_artifact_filepath, name='data_artifacts', type='my_dataset') "
      ],
      "metadata": {
        "colab": {
          "base_uri": "https://localhost:8080/"
        },
        "id": "BbWWWmagqQzy",
        "outputId": "d4d1b238-be62-4aaf-905a-b4fc7f026c53"
      },
      "execution_count": 43,
      "outputs": [
        {
          "output_type": "stream",
          "name": "stderr",
          "text": [
            "\u001b[34m\u001b[1mwandb\u001b[0m: Adding directory to artifact (/content/artifact_store)... Done. 0.1s\n"
          ]
        },
        {
          "output_type": "execute_result",
          "data": {
            "text/plain": [
              "<wandb.sdk.wandb_artifacts.Artifact at 0x7f3d76c09810>"
            ]
          },
          "metadata": {},
          "execution_count": 43
        }
      ]
    },
    {
      "cell_type": "code",
      "source": [
        "class BiLSTM(nn.Module):\n",
        "    def __init__(self, vocab_size, emb_dim, hid_dim, tag_vocab_size, dropout=0.1):\n",
        "        super().__init__()\n",
        "        self.hid_dim = hid_dim\n",
        "        self.embedding = nn.Embedding(vocab_size, emb_dim, padding_idx=0)\n",
        "        self.lstm = nn.LSTM(emb_dim, hid_dim, bidirectional=True, batch_first=True)\n",
        "        self.fc = nn.Linear(hid_dim*2, tag_vocab_size)\n",
        "        self.dropout = nn.Dropout(dropout)\n",
        "\n",
        "    def forward(self, sentences, lengths):\n",
        "        # sentences: [batch_size, seq_len]\n",
        "        embed = self.embedding(sentences)\n",
        "        embed = self.dropout(embed)\n",
        "\n",
        "        packed_embed = nn.utils.rnn.pack_padded_sequence(embed, lengths, batch_first=True)\n",
        "        packed_output, _ = self.lstm(packed_embed)\n",
        "\n",
        "        outputs, _ = nn.utils.rnn.pad_packed_sequence(packed_output, batch_first=True)\n",
        "\n",
        "        combined = torch.cat((outputs[:,:, :self.hid_dim], outputs[:,:,self.hid_dim:]), dim=-1)\n",
        "        combined = self.dropout(combined)\n",
        "\n",
        "        logits = self.fc(combined)\n",
        "\n",
        "        return logits"
      ],
      "metadata": {
        "id": "_X1wFvxVscJu"
      },
      "execution_count": 44,
      "outputs": []
    },
    {
      "cell_type": "code",
      "source": [
        "config = dict(\n",
        "    vocab_size=len(words_vocab),\n",
        "    emb_dim=50,\n",
        "    hid_dim=100,\n",
        "    tag_vocab_size=num_tags,\n",
        "    learning_rate=0.01,\n",
        "    epochs=10,\n",
        "    batch_size=batch_size,\n",
        "    dataset=\"NER\",\n",
        "    architecture=\"BiLSTM\"\n",
        ")"
      ],
      "metadata": {
        "id": "HruyClvi1CUk"
      },
      "execution_count": 45,
      "outputs": []
    },
    {
      "cell_type": "code",
      "source": [
        "device = torch.device(\"cuda\" if torch.cuda.is_available() else \"cpu\")"
      ],
      "metadata": {
        "id": "700L9Dnx3K7v"
      },
      "execution_count": 46,
      "outputs": []
    },
    {
      "cell_type": "code",
      "source": [
        "def make(config):\n",
        "    # Make the model\n",
        "    model = BiLSTM(config.vocab_size, config.emb_dim, config.hid_dim, config.tag_vocab_size).to(device)\n",
        "\n",
        "    # Make the loss and optimizer\n",
        "    criterion = nn.CrossEntropyLoss().to(device)\n",
        "    optimizer = torch.optim.Adam(\n",
        "        model.parameters(), lr=config.learning_rate)\n",
        "    \n",
        "    return model, criterion, optimizer"
      ],
      "metadata": {
        "id": "2wt-kn3q2xix"
      },
      "execution_count": 47,
      "outputs": []
    },
    {
      "cell_type": "code",
      "source": [
        "def categorical_accuracy(predictions, y, tag_pad_idx=None):\n",
        "    max_preds = predictions.argmax(dim=1,keepdim=True)\n",
        "    max_preds = max_preds.squeeze(1)\n",
        "    correct = max_preds.eq(y)\n",
        "    accuracy = correct.sum().item()/(predictions.shape[0] * 1.0)\n",
        "    return accuracy"
      ],
      "metadata": {
        "id": "cXrXzh5c3kUH"
      },
      "execution_count": 48,
      "outputs": []
    },
    {
      "cell_type": "code",
      "source": [
        "def train_batch(model, iterator, criterion, optimizer, tag_pad_idx,clip):\n",
        "    model.train()\n",
        "\n",
        "    epoch_loss = 0\n",
        "    epoch_acc = 0\n",
        "\n",
        "    train_example_ct = 0  # number of examples seen\n",
        "    train_batch_ct = 0\n",
        "\n",
        "\n",
        "    for batch in iterator:\n",
        "        sentences = batch[0].to(device)\n",
        "        tags = batch[1].to(device)\n",
        "        seq_lengths = batch[2]\n",
        "\n",
        "        optimizer.zero_grad()\n",
        "\n",
        "        logits = model(sentences, seq_lengths)\n",
        "\n",
        "        train_example_ct +=  len(sentences)\n",
        "        train_batch_ct += 1\n",
        "\n",
        "        packed_logits = nn.utils.rnn.pack_padded_sequence(logits, seq_lengths, batch_first=True)[0]\n",
        "        packed_tags = nn.utils.rnn.pack_padded_sequence(tags, seq_lengths, batch_first=True)[0]\n",
        "        loss = criterion(packed_logits, packed_tags)\n",
        "\n",
        "        acc = categorical_accuracy(packed_logits, packed_tags)\n",
        "\n",
        "        loss.backward()\n",
        "        torch.nn.utils.clip_grad_norm(model.parameters(), clip)\n",
        "        optimizer.step()\n",
        "\n",
        "        epoch_loss += loss.item()\n",
        "        epoch_acc += acc\n",
        "\n",
        "        if ((train_batch_ct + 1) % 25) == 0:\n",
        "            print(f\"Training Loss after \" + str(train_example_ct).zfill(5) + f\" examples: {loss:.3f}\")\n",
        "            wandb.log({\"train_loss\": loss, \"train_accuracy\": acc}, step=train_example_ct)\n",
        "\n",
        "    return epoch_loss/len(iterator), epoch_acc/len(iterator)"
      ],
      "metadata": {
        "id": "IxN4Korr38Ue"
      },
      "execution_count": 58,
      "outputs": []
    },
    {
      "cell_type": "code",
      "source": [
        "def test(model, iterator, criterion, tag_pad_idx):\n",
        "    model.eval()\n",
        "\n",
        "    epoch_loss = 0\n",
        "    epoch_acc = 0\n",
        "\n",
        "    valid_example_ct = 0  # number of examples seen\n",
        "    valid_batch_ct = 0\n",
        "\n",
        "    with torch.no_grad():\n",
        "        for batch in iterator:\n",
        "            sentences = batch[0].to(device)\n",
        "            tags = batch[1].to(device)\n",
        "            seq_lengths = batch[2]\n",
        "\n",
        "            logits = model(sentences, seq_lengths)\n",
        "            \n",
        "            valid_example_ct +=  len(sentences)\n",
        "            valid_batch_ct += 1\n",
        "            \n",
        "            packed_logits = nn.utils.rnn.pack_padded_sequence(logits, seq_lengths, batch_first=True)[0]\n",
        "            packed_tags = nn.utils.rnn.pack_padded_sequence(tags, seq_lengths, batch_first=True)[0]\n",
        "            loss = criterion(packed_logits, packed_tags)\n",
        "\n",
        "            acc = categorical_accuracy(packed_logits, packed_tags)\n",
        "\n",
        "            epoch_loss += loss.item()\n",
        "            epoch_acc += acc\n",
        "\n",
        "            # Report metrics every 25th batch\n",
        "            if ((valid_batch_ct + 1) % 25) == 0:\n",
        "                print(f\"Loss after (validating)\" + str(valid_example_ct).zfill(5) + f\" examples: {loss:.3f}\")\n",
        "                wandb.log({\"valid_loss\": loss, \"valid_accuracy\": acc}, step=valid_example_ct)\n",
        "\n",
        "    return epoch_loss / len(iterator), epoch_acc/len(iterator)\n",
        "\n"
      ],
      "metadata": {
        "id": "6lEV9x0i6omb"
      },
      "execution_count": 59,
      "outputs": []
    },
    {
      "cell_type": "code",
      "source": [
        "def train(model, criterion, optimizer, config, tag_pad_idx=0, clip=2):\n",
        "    # Tell wandb to watch what the model gets up to: gradients, weights, and more!\n",
        "    wandb.watch(model, criterion, log=\"all\", log_freq=10)\n",
        "\n",
        "    best_valid_loss = float(\"inf\")\n",
        "\n",
        "    for epoch in range(config.epochs):\n",
        "        train_loss, train_acc = train_batch(model, train_dataloader, criterion, optimizer, tag_pad_idx, clip)\n",
        "        valid_loss, valid_acc = test(model, valid_dataloader, criterion, tag_pad_idx)\n",
        "\n",
        "        wandb.log({\"train_epoch_loss\":train_loss, \"valid_epoch_loss\":valid_loss, \"train_epoch_acc\":train_acc, \"valid_epoch_acc\":valid_acc, \"epoch\":epoch})\n",
        "\n",
        "        if valid_loss < best_valid_loss:\n",
        "            best_valid_loss = valid_loss\n",
        "            torch.save(model.state_dict(), \"bistm_ner_model.pt\")\n",
        "\n",
        "        print(f\"Epoch: {epoch+1}\")\n",
        "        print(f\"Train loss: {train_loss:.3f} | Train accuracy: {train_acc:.3f}\")\n",
        "        print(f\"Valid loss: {valid_loss:.3f} | Valid accuracy: {valid_acc:.3f}\")"
      ],
      "metadata": {
        "id": "5aSC4VL27-CK"
      },
      "execution_count": 60,
      "outputs": []
    },
    {
      "cell_type": "code",
      "source": [
        "def model_pipeline(hyperparameters):\n",
        "\n",
        "    # tell wandb to get started\n",
        "    with wandb.init(project=\"NER Project\", config=hyperparameters) as run:\n",
        "      # access all HPs through wandb.config, so logging matches execution!\n",
        "      config = wandb.config\n",
        "\n",
        "      # make the model, data, and optimization problem\n",
        "      model, criterion, optimizer = make(config)\n",
        "      print(model)\n",
        "\n",
        "      # and use them to train the model\n",
        "      train(model, criterion, optimizer, config)\n",
        "\n",
        "      trained_model_artifact = wandb.Artifact(\n",
        "          \"BiLSTM\",type=\"model\",description=\"NER baseline model\"\n",
        "      )\n",
        "      trained_model_artifact.add_file(\"bistm_ner_model.pt\")\n",
        "      run.log_artifact(trained_model_artifact)\n",
        "      run.log_artifact(data_artifact_filepath, name='data_artifacts', type='my_dataset') \n",
        "\n",
        "    return model"
      ],
      "metadata": {
        "id": "qKPFAAyx2CO6"
      },
      "execution_count": 61,
      "outputs": []
    },
    {
      "cell_type": "code",
      "source": [
        "model = model_pipeline(config)"
      ],
      "metadata": {
        "colab": {
          "base_uri": "https://localhost:8080/",
          "height": 1000,
          "referenced_widgets": [
            "27d1eb3b19954676872e3b7248fe3fd0",
            "2dbd61eecba44168bf22b8ab802c825c",
            "c733dce54a3d422cb40d530a96bb5b41",
            "2edb01f554c44d9c979e7bb6dc6fd02a",
            "7d5c08062ac643819d081867de8b1dca",
            "0e29340ef9df4146b8f929d275096132",
            "b154a5e84ae54c838ba7e0917629cf89",
            "265d7ebc70a8498faf2bf26fb8606a1a"
          ]
        },
        "id": "hzWurIkNCHMf",
        "outputId": "1d788883-4058-4f8a-df9d-28c8dff11ff3"
      },
      "execution_count": 62,
      "outputs": [
        {
          "output_type": "display_data",
          "data": {
            "text/plain": [
              "<IPython.core.display.HTML object>"
            ],
            "text/html": [
              "Tracking run with wandb version 0.12.17"
            ]
          },
          "metadata": {}
        },
        {
          "output_type": "display_data",
          "data": {
            "text/plain": [
              "<IPython.core.display.HTML object>"
            ],
            "text/html": [
              "Run data is saved locally in <code>/content/wandb/run-20220608_213159-177ve4nd</code>"
            ]
          },
          "metadata": {}
        },
        {
          "output_type": "display_data",
          "data": {
            "text/plain": [
              "<IPython.core.display.HTML object>"
            ],
            "text/html": [
              "Syncing run <strong><a href=\"https://wandb.ai/alokpadhi/NER%20Project/runs/177ve4nd\" target=\"_blank\">hopeful-flower-3</a></strong> to <a href=\"https://wandb.ai/alokpadhi/NER%20Project\" target=\"_blank\">Weights & Biases</a> (<a href=\"https://wandb.me/run\" target=\"_blank\">docs</a>)<br/>"
            ]
          },
          "metadata": {}
        },
        {
          "output_type": "stream",
          "name": "stdout",
          "text": [
            "BiLSTM(\n",
            "  (embedding): Embedding(8954, 50, padding_idx=0)\n",
            "  (lstm): LSTM(50, 100, batch_first=True, bidirectional=True)\n",
            "  (fc): Linear(in_features=200, out_features=17, bias=True)\n",
            "  (dropout): Dropout(p=0.1, inplace=False)\n",
            ")\n",
            "Training Loss after 01536 examples: 0.652\n",
            "Training Loss after 03136 examples: 0.437\n",
            "Training Loss after 04736 examples: 0.310\n",
            "Training Loss after 06336 examples: 0.318\n",
            "Training Loss after 07936 examples: 0.257\n",
            "Training Loss after 09536 examples: 0.248\n",
            "Training Loss after 11136 examples: 0.191\n",
            "Training Loss after 12736 examples: 0.199\n",
            "Training Loss after 14336 examples: 0.183\n",
            "Training Loss after 15936 examples: 0.156\n",
            "Training Loss after 17536 examples: 0.131\n",
            "Training Loss after 19136 examples: 0.184\n",
            "Training Loss after 20736 examples: 0.184\n",
            "Training Loss after 22336 examples: 0.149\n",
            "Training Loss after 23936 examples: 0.174\n",
            "Training Loss after 25536 examples: 0.144\n",
            "Training Loss after 27136 examples: 0.133\n",
            "Training Loss after 28736 examples: 0.126\n",
            "Training Loss after 30336 examples: 0.106\n",
            "Training Loss after 31936 examples: 0.125\n",
            "Training Loss after 33536 examples: 0.128\n",
            "Loss after (validating)01536 examples: 0.092\n",
            "Loss after (validating)03136 examples: 0.135\n",
            "Loss after (validating)04736 examples: 0.164\n",
            "Loss after (validating)06336 examples: 0.171\n",
            "Epoch: 1\n",
            "Train loss: 0.245 | Train accuracy: 0.936\n",
            "Valid loss: 0.127 | Valid accuracy: 0.962\n",
            "Training Loss after 01536 examples: 0.128\n",
            "Training Loss after 03136 examples: 0.108\n",
            "Training Loss after 04736 examples: 0.136\n",
            "Training Loss after 06336 examples: 0.164\n",
            "Training Loss after 07936 examples: 0.120\n",
            "Training Loss after 09536 examples: 0.147\n",
            "Training Loss after 11136 examples: 0.095\n",
            "Training Loss after 12736 examples: 0.119\n",
            "Training Loss after 14336 examples: 0.127\n",
            "Training Loss after 15936 examples: 0.118\n",
            "Training Loss after 17536 examples: 0.076\n",
            "Training Loss after 19136 examples: 0.110\n",
            "Training Loss after 20736 examples: 0.144\n",
            "Training Loss after 22336 examples: 0.107\n",
            "Training Loss after 23936 examples: 0.129\n",
            "Training Loss after 25536 examples: 0.102\n",
            "Training Loss after 27136 examples: 0.104\n",
            "Training Loss after 28736 examples: 0.096\n",
            "Training Loss after 30336 examples: 0.091\n",
            "Training Loss after 31936 examples: 0.101\n",
            "Training Loss after 33536 examples: 0.101\n",
            "Loss after (validating)01536 examples: 0.085\n",
            "Loss after (validating)03136 examples: 0.118\n",
            "Loss after (validating)04736 examples: 0.149\n",
            "Loss after (validating)06336 examples: 0.154\n",
            "Epoch: 2\n",
            "Train loss: 0.120 | Train accuracy: 0.963\n",
            "Valid loss: 0.115 | Valid accuracy: 0.965\n",
            "Training Loss after 01536 examples: 0.089\n",
            "Training Loss after 03136 examples: 0.093\n",
            "Training Loss after 04736 examples: 0.120\n",
            "Training Loss after 06336 examples: 0.135\n",
            "Training Loss after 07936 examples: 0.114\n",
            "Training Loss after 09536 examples: 0.121\n",
            "Training Loss after 11136 examples: 0.085\n",
            "Training Loss after 12736 examples: 0.113\n",
            "Training Loss after 14336 examples: 0.126\n",
            "Training Loss after 15936 examples: 0.097\n",
            "Training Loss after 17536 examples: 0.070\n",
            "Training Loss after 19136 examples: 0.112\n",
            "Training Loss after 20736 examples: 0.116\n",
            "Training Loss after 22336 examples: 0.097\n",
            "Training Loss after 23936 examples: 0.120\n",
            "Training Loss after 25536 examples: 0.096\n",
            "Training Loss after 27136 examples: 0.089\n",
            "Training Loss after 28736 examples: 0.095\n",
            "Training Loss after 30336 examples: 0.081\n",
            "Training Loss after 31936 examples: 0.084\n",
            "Training Loss after 33536 examples: 0.093\n",
            "Loss after (validating)01536 examples: 0.089\n",
            "Loss after (validating)03136 examples: 0.127\n",
            "Loss after (validating)04736 examples: 0.148\n",
            "Loss after (validating)06336 examples: 0.169\n",
            "Epoch: 3\n",
            "Train loss: 0.105 | Train accuracy: 0.967\n",
            "Valid loss: 0.115 | Valid accuracy: 0.965\n",
            "Training Loss after 01536 examples: 0.082\n",
            "Training Loss after 03136 examples: 0.083\n",
            "Training Loss after 04736 examples: 0.115\n",
            "Training Loss after 06336 examples: 0.114\n",
            "Training Loss after 07936 examples: 0.090\n",
            "Training Loss after 09536 examples: 0.112\n",
            "Training Loss after 11136 examples: 0.072\n",
            "Training Loss after 12736 examples: 0.102\n",
            "Training Loss after 14336 examples: 0.105\n",
            "Training Loss after 15936 examples: 0.091\n",
            "Training Loss after 17536 examples: 0.065\n",
            "Training Loss after 19136 examples: 0.101\n",
            "Training Loss after 20736 examples: 0.109\n",
            "Training Loss after 22336 examples: 0.089\n",
            "Training Loss after 23936 examples: 0.104\n",
            "Training Loss after 25536 examples: 0.085\n",
            "Training Loss after 27136 examples: 0.090\n",
            "Training Loss after 28736 examples: 0.086\n",
            "Training Loss after 30336 examples: 0.082\n",
            "Training Loss after 31936 examples: 0.086\n",
            "Training Loss after 33536 examples: 0.089\n",
            "Loss after (validating)01536 examples: 0.083\n",
            "Loss after (validating)03136 examples: 0.122\n",
            "Loss after (validating)04736 examples: 0.136\n",
            "Loss after (validating)06336 examples: 0.170\n",
            "Epoch: 4\n",
            "Train loss: 0.095 | Train accuracy: 0.969\n",
            "Valid loss: 0.113 | Valid accuracy: 0.966\n",
            "Training Loss after 01536 examples: 0.080\n",
            "Training Loss after 03136 examples: 0.081\n",
            "Training Loss after 04736 examples: 0.100\n",
            "Training Loss after 06336 examples: 0.105\n",
            "Training Loss after 07936 examples: 0.096\n",
            "Training Loss after 09536 examples: 0.096\n",
            "Training Loss after 11136 examples: 0.066\n",
            "Training Loss after 12736 examples: 0.085\n",
            "Training Loss after 14336 examples: 0.095\n",
            "Training Loss after 15936 examples: 0.082\n",
            "Training Loss after 17536 examples: 0.055\n",
            "Training Loss after 19136 examples: 0.090\n",
            "Training Loss after 20736 examples: 0.104\n",
            "Training Loss after 22336 examples: 0.084\n",
            "Training Loss after 23936 examples: 0.107\n",
            "Training Loss after 25536 examples: 0.088\n",
            "Training Loss after 27136 examples: 0.078\n",
            "Training Loss after 28736 examples: 0.093\n",
            "Training Loss after 30336 examples: 0.066\n",
            "Training Loss after 31936 examples: 0.073\n",
            "Training Loss after 33536 examples: 0.082\n",
            "Loss after (validating)01536 examples: 0.089\n",
            "Loss after (validating)03136 examples: 0.123\n",
            "Loss after (validating)04736 examples: 0.143\n",
            "Loss after (validating)06336 examples: 0.180\n",
            "Epoch: 5\n",
            "Train loss: 0.089 | Train accuracy: 0.971\n",
            "Valid loss: 0.116 | Valid accuracy: 0.966\n",
            "Training Loss after 01536 examples: 0.076\n",
            "Training Loss after 03136 examples: 0.091\n",
            "Training Loss after 04736 examples: 0.104\n",
            "Training Loss after 06336 examples: 0.099\n",
            "Training Loss after 07936 examples: 0.095\n",
            "Training Loss after 09536 examples: 0.078\n",
            "Training Loss after 11136 examples: 0.058\n",
            "Training Loss after 12736 examples: 0.089\n",
            "Training Loss after 14336 examples: 0.098\n",
            "Training Loss after 15936 examples: 0.080\n",
            "Training Loss after 17536 examples: 0.046\n",
            "Training Loss after 19136 examples: 0.078\n",
            "Training Loss after 20736 examples: 0.090\n",
            "Training Loss after 22336 examples: 0.074\n",
            "Training Loss after 23936 examples: 0.112\n",
            "Training Loss after 25536 examples: 0.079\n",
            "Training Loss after 27136 examples: 0.080\n",
            "Training Loss after 28736 examples: 0.069\n",
            "Training Loss after 30336 examples: 0.067\n",
            "Training Loss after 31936 examples: 0.076\n",
            "Training Loss after 33536 examples: 0.085\n",
            "Loss after (validating)01536 examples: 0.084\n",
            "Loss after (validating)03136 examples: 0.135\n",
            "Loss after (validating)04736 examples: 0.147\n",
            "Loss after (validating)06336 examples: 0.179\n",
            "Epoch: 6\n",
            "Train loss: 0.085 | Train accuracy: 0.972\n",
            "Valid loss: 0.119 | Valid accuracy: 0.966\n",
            "Training Loss after 01536 examples: 0.078\n",
            "Training Loss after 03136 examples: 0.072\n",
            "Training Loss after 04736 examples: 0.104\n",
            "Training Loss after 06336 examples: 0.093\n",
            "Training Loss after 07936 examples: 0.082\n",
            "Training Loss after 09536 examples: 0.082\n",
            "Training Loss after 11136 examples: 0.061\n",
            "Training Loss after 12736 examples: 0.079\n",
            "Training Loss after 14336 examples: 0.094\n",
            "Training Loss after 15936 examples: 0.072\n",
            "Training Loss after 17536 examples: 0.052\n",
            "Training Loss after 19136 examples: 0.088\n",
            "Training Loss after 20736 examples: 0.088\n",
            "Training Loss after 22336 examples: 0.064\n",
            "Training Loss after 23936 examples: 0.090\n",
            "Training Loss after 25536 examples: 0.079\n",
            "Training Loss after 27136 examples: 0.072\n",
            "Training Loss after 28736 examples: 0.067\n",
            "Training Loss after 30336 examples: 0.061\n",
            "Training Loss after 31936 examples: 0.068\n",
            "Training Loss after 33536 examples: 0.082\n",
            "Loss after (validating)01536 examples: 0.092\n",
            "Loss after (validating)03136 examples: 0.144\n",
            "Loss after (validating)04736 examples: 0.147\n",
            "Loss after (validating)06336 examples: 0.192\n",
            "Epoch: 7\n",
            "Train loss: 0.081 | Train accuracy: 0.973\n",
            "Valid loss: 0.119 | Valid accuracy: 0.965\n",
            "Training Loss after 01536 examples: 0.071\n",
            "Training Loss after 03136 examples: 0.078\n",
            "Training Loss after 04736 examples: 0.095\n",
            "Training Loss after 06336 examples: 0.090\n",
            "Training Loss after 07936 examples: 0.075\n",
            "Training Loss after 09536 examples: 0.082\n",
            "Training Loss after 11136 examples: 0.052\n",
            "Training Loss after 12736 examples: 0.071\n",
            "Training Loss after 14336 examples: 0.092\n",
            "Training Loss after 15936 examples: 0.069\n",
            "Training Loss after 17536 examples: 0.049\n",
            "Training Loss after 19136 examples: 0.076\n",
            "Training Loss after 20736 examples: 0.085\n",
            "Training Loss after 22336 examples: 0.070\n",
            "Training Loss after 23936 examples: 0.091\n",
            "Training Loss after 25536 examples: 0.073\n",
            "Training Loss after 27136 examples: 0.075\n",
            "Training Loss after 28736 examples: 0.075\n",
            "Training Loss after 30336 examples: 0.064\n",
            "Training Loss after 31936 examples: 0.068\n",
            "Training Loss after 33536 examples: 0.072\n",
            "Loss after (validating)01536 examples: 0.093\n",
            "Loss after (validating)03136 examples: 0.141\n",
            "Loss after (validating)04736 examples: 0.139\n",
            "Loss after (validating)06336 examples: 0.175\n",
            "Epoch: 8\n",
            "Train loss: 0.079 | Train accuracy: 0.974\n",
            "Valid loss: 0.121 | Valid accuracy: 0.966\n",
            "Training Loss after 01536 examples: 0.072\n",
            "Training Loss after 03136 examples: 0.073\n",
            "Training Loss after 04736 examples: 0.079\n",
            "Training Loss after 06336 examples: 0.081\n",
            "Training Loss after 07936 examples: 0.067\n",
            "Training Loss after 09536 examples: 0.090\n",
            "Training Loss after 11136 examples: 0.064\n",
            "Training Loss after 12736 examples: 0.090\n",
            "Training Loss after 14336 examples: 0.078\n",
            "Training Loss after 15936 examples: 0.072\n",
            "Training Loss after 17536 examples: 0.049\n",
            "Training Loss after 19136 examples: 0.073\n",
            "Training Loss after 20736 examples: 0.086\n",
            "Training Loss after 22336 examples: 0.069\n",
            "Training Loss after 23936 examples: 0.083\n",
            "Training Loss after 25536 examples: 0.069\n",
            "Training Loss after 27136 examples: 0.073\n",
            "Training Loss after 28736 examples: 0.065\n",
            "Training Loss after 30336 examples: 0.063\n",
            "Training Loss after 31936 examples: 0.063\n",
            "Training Loss after 33536 examples: 0.076\n",
            "Loss after (validating)01536 examples: 0.092\n",
            "Loss after (validating)03136 examples: 0.137\n",
            "Loss after (validating)04736 examples: 0.142\n",
            "Loss after (validating)06336 examples: 0.173\n",
            "Epoch: 9\n",
            "Train loss: 0.075 | Train accuracy: 0.975\n",
            "Valid loss: 0.123 | Valid accuracy: 0.966\n",
            "Training Loss after 01536 examples: 0.068\n",
            "Training Loss after 03136 examples: 0.087\n",
            "Training Loss after 04736 examples: 0.086\n",
            "Training Loss after 06336 examples: 0.094\n",
            "Training Loss after 07936 examples: 0.068\n",
            "Training Loss after 09536 examples: 0.074\n",
            "Training Loss after 11136 examples: 0.061\n",
            "Training Loss after 12736 examples: 0.080\n",
            "Training Loss after 14336 examples: 0.089\n",
            "Training Loss after 15936 examples: 0.057\n",
            "Training Loss after 17536 examples: 0.047\n",
            "Training Loss after 19136 examples: 0.067\n",
            "Training Loss after 20736 examples: 0.082\n",
            "Training Loss after 22336 examples: 0.056\n",
            "Training Loss after 23936 examples: 0.075\n",
            "Training Loss after 25536 examples: 0.065\n",
            "Training Loss after 27136 examples: 0.071\n",
            "Training Loss after 28736 examples: 0.069\n",
            "Training Loss after 30336 examples: 0.059\n",
            "Training Loss after 31936 examples: 0.064\n",
            "Training Loss after 33536 examples: 0.075\n",
            "Loss after (validating)01536 examples: 0.102\n",
            "Loss after (validating)03136 examples: 0.152\n",
            "Loss after (validating)04736 examples: 0.142\n",
            "Loss after (validating)06336 examples: 0.190\n"
          ]
        },
        {
          "output_type": "stream",
          "name": "stderr",
          "text": [
            "\u001b[34m\u001b[1mwandb\u001b[0m: Adding directory to artifact (/content/artifact_store)... Done. 0.1s\n"
          ]
        },
        {
          "output_type": "stream",
          "name": "stdout",
          "text": [
            "Epoch: 10\n",
            "Train loss: 0.074 | Train accuracy: 0.975\n",
            "Valid loss: 0.124 | Valid accuracy: 0.966\n"
          ]
        },
        {
          "output_type": "display_data",
          "data": {
            "text/plain": [
              "<IPython.core.display.HTML object>"
            ],
            "text/html": [
              "Waiting for W&B process to finish... <strong style=\"color:green\">(success).</strong>"
            ]
          },
          "metadata": {}
        },
        {
          "output_type": "display_data",
          "data": {
            "text/plain": [
              "VBox(children=(Label(value='2.187 MB of 2.187 MB uploaded (0.000 MB deduped)\\r'), FloatProgress(value=1.0, max…"
            ],
            "application/vnd.jupyter.widget-view+json": {
              "version_major": 2,
              "version_minor": 0,
              "model_id": "27d1eb3b19954676872e3b7248fe3fd0"
            }
          },
          "metadata": {}
        },
        {
          "output_type": "display_data",
          "data": {
            "text/plain": [
              "<IPython.core.display.HTML object>"
            ],
            "text/html": [
              "<style>\n",
              "    table.wandb td:nth-child(1) { padding: 0 10px; text-align: left ; width: auto;} td:nth-child(2) {text-align: left ; width: 100%}\n",
              "    .wandb-row { display: flex; flex-direction: row; flex-wrap: wrap; justify-content: flex-start; width: 100% }\n",
              "    .wandb-col { display: flex; flex-direction: column; flex-basis: 100%; flex: 1; padding: 10px; }\n",
              "    </style>\n",
              "<div class=\"wandb-row\"><div class=\"wandb-col\"><h3>Run history:</h3><br/><table class=\"wandb\"><tr><td>epoch</td><td>▁▂▃▃▄▅▆▆▇█</td></tr><tr><td>train_accuracy</td><td>▁▃▅▄▅▆▆▆▇▇█▇▆█▇▇████▇</td></tr><tr><td>train_epoch_acc</td><td>▁▆▆▇▇▇████</td></tr><tr><td>train_epoch_loss</td><td>█▃▂▂▂▁▁▁▁▁</td></tr><tr><td>train_loss</td><td>█▅▄▄▃▃▂▂▂▂▁▂▂▂▂▁▁▁▁▁▁</td></tr><tr><td>valid_epoch_acc</td><td>▁▆▆███▇▇██</td></tr><tr><td>valid_epoch_loss</td><td>█▂▂▁▃▄▄▅▆▇</td></tr></table><br/></div><div class=\"wandb-col\"><h3>Run summary:</h3><br/><table class=\"wandb\"><tr><td>epoch</td><td>9</td></tr><tr><td>train_accuracy</td><td>0.95646</td></tr><tr><td>train_epoch_acc</td><td>0.97529</td></tr><tr><td>train_epoch_loss</td><td>0.07443</td></tr><tr><td>train_loss</td><td>0.12798</td></tr><tr><td>valid_epoch_acc</td><td>0.96595</td></tr><tr><td>valid_epoch_loss</td><td>0.12425</td></tr></table><br/></div></div>"
            ]
          },
          "metadata": {}
        },
        {
          "output_type": "display_data",
          "data": {
            "text/plain": [
              "<IPython.core.display.HTML object>"
            ],
            "text/html": [
              "Synced <strong style=\"color:#cdcd00\">hopeful-flower-3</strong>: <a href=\"https://wandb.ai/alokpadhi/NER%20Project/runs/177ve4nd\" target=\"_blank\">https://wandb.ai/alokpadhi/NER%20Project/runs/177ve4nd</a><br/>Synced 5 W&B file(s), 0 media file(s), 1 artifact file(s) and 0 other file(s)"
            ]
          },
          "metadata": {}
        },
        {
          "output_type": "display_data",
          "data": {
            "text/plain": [
              "<IPython.core.display.HTML object>"
            ],
            "text/html": [
              "Find logs at: <code>./wandb/run-20220608_213159-177ve4nd/logs</code>"
            ]
          },
          "metadata": {}
        }
      ]
    },
    {
      "cell_type": "code",
      "source": [
        ""
      ],
      "metadata": {
        "id": "c2JhBWX_CMn0"
      },
      "execution_count": null,
      "outputs": []
    }
  ]
}